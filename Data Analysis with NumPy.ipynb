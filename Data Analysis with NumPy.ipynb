{
 "cells": [
  {
   "cell_type": "markdown",
   "id": "343e2b6b-103a-4956-98d4-b1819efae32d",
   "metadata": {},
   "source": [
    "# Project 1: Data Analysis with NumPy"
   ]
  },
  {
   "cell_type": "code",
   "execution_count": 1,
   "id": "bd8983d2-217b-46af-bcfd-36aa9c54b732",
   "metadata": {},
   "outputs": [],
   "source": [
    "import numpy as np"
   ]
  },
  {
   "cell_type": "code",
   "execution_count": 2,
   "id": "ff651406-ed05-4259-b6fc-6d732fc76c9a",
   "metadata": {},
   "outputs": [],
   "source": [
    "# Load the dataset\n",
    "data = np.genfromtxt('Tesla.csv', delimiter=',', skip_header=1)"
   ]
  },
  {
   "cell_type": "code",
   "execution_count": 9,
   "id": "1e78ea3d-4e09-4465-a761-6ce7dd195ea1",
   "metadata": {},
   "outputs": [
    {
     "name": "stdout",
     "output_type": "stream",
     "text": [
      "Column names: ['Date' 'Open' 'High' 'Low' 'Close' 'Volume' 'Adj Close']\n"
     ]
    }
   ],
   "source": [
    "# Load the column names (first row of the CSV)\n",
    "column_names = np.genfromtxt('Tesla.csv', delimiter=',', max_rows=1, dtype=str)\n",
    "\n",
    "print(\"Column names:\", column_names)"
   ]
  },
  {
   "cell_type": "code",
   "execution_count": 10,
   "id": "fd5052e0-5118-4a69-a6ce-8073b3632b44",
   "metadata": {},
   "outputs": [
    {
     "data": {
      "text/plain": [
       "array([[           nan, 1.90000000e+01, 2.50000000e+01, ...,\n",
       "        2.38899990e+01, 1.87663000e+07, 2.38899990e+01],\n",
       "       [           nan, 2.57900010e+01, 3.04200000e+01, ...,\n",
       "        2.38300000e+01, 1.71871000e+07, 2.38300000e+01],\n",
       "       [           nan, 2.50000000e+01, 2.59200000e+01, ...,\n",
       "        2.19599990e+01, 8.21880000e+06, 2.19599990e+01],\n",
       "       ...,\n",
       "       [           nan, 2.57000000e+02, 2.61000000e+02, ...,\n",
       "        2.55729996e+02, 4.81660000e+06, 2.55729996e+02],\n",
       "       [           nan, 2.62399994e+02, 2.65750000e+02, ...,\n",
       "        2.62049988e+02, 7.10040000e+06, 2.62049988e+02],\n",
       "       [           nan, 2.64000000e+02, 2.65329987e+02, ...,\n",
       "        2.61500000e+02, 6.47590000e+06, 2.61500000e+02]])"
      ]
     },
     "execution_count": 10,
     "metadata": {},
     "output_type": "execute_result"
    }
   ],
   "source": [
    "data"
   ]
  },
  {
   "cell_type": "code",
   "execution_count": 11,
   "id": "894f8d7d-f2b1-4d83-a6f0-56667c49949f",
   "metadata": {},
   "outputs": [],
   "source": [
    "# Extract relevant columns \n",
    "open = data[:, 1]\n",
    "high = data[:, 2]\n",
    "low = data[:, 3]\n",
    "close = data[:, 4]\n",
    "volume = data[:, 5]\n",
    "adj_close = data[:, 6]"
   ]
  },
  {
   "cell_type": "code",
   "execution_count": 12,
   "id": "3f0848db-c588-4480-9b0d-436d51bc4fe8",
   "metadata": {},
   "outputs": [
    {
     "name": "stdout",
     "output_type": "stream",
     "text": [
      "Correlation matrix:\n",
      " [[1.         0.99962322 0.99960504 0.99923326 0.40751545 0.99923326]\n",
      " [0.99962322 1.         0.99952145 0.99969092 0.41646614 0.99969092]\n",
      " [0.99960504 0.99952145 1.         0.9996561  0.39761546 0.9996561 ]\n",
      " [0.99923326 0.99969092 0.9996561  1.         0.40690721 1.        ]\n",
      " [0.40751545 0.41646614 0.39761546 0.40690721 1.         0.40690721]\n",
      " [0.99923326 0.99969092 0.9996561  1.         0.40690721 1.        ]]\n"
     ]
    }
   ],
   "source": [
    "# Stack the columns together for correlation calculation\n",
    "data_matrix = np.stack((open, high, low, close, volume, adj_close), axis=0)\n",
    "\n",
    "# Calculate the correlation matrix\n",
    "correlation_matrix = np.corrcoef(data_matrix)\n",
    "\n",
    "# Print the correlation matrix\n",
    "print(\"Correlation matrix:\\n\", correlation_matrix)"
   ]
  },
  {
   "cell_type": "code",
   "execution_count": 13,
   "id": "5dc7acfb-94da-470c-916f-523d93918748",
   "metadata": {},
   "outputs": [
    {
     "data": {
      "text/plain": [
       "(1692, 7)"
      ]
     },
     "execution_count": 13,
     "metadata": {},
     "output_type": "execute_result"
    }
   ],
   "source": [
    "data.shape"
   ]
  },
  {
   "cell_type": "code",
   "execution_count": 14,
   "id": "38c8884d-42b2-4a30-a575-9376f38ff2a8",
   "metadata": {},
   "outputs": [
    {
     "data": {
      "text/plain": [
       "11844"
      ]
     },
     "execution_count": 14,
     "metadata": {},
     "output_type": "execute_result"
    }
   ],
   "source": [
    "data.size"
   ]
  },
  {
   "cell_type": "code",
   "execution_count": 15,
   "id": "ee5f69da-690e-4c72-b51d-0a0c50daaae9",
   "metadata": {},
   "outputs": [
    {
     "name": "stdout",
     "output_type": "stream",
     "text": [
      "Mean values: [           nan 1.32441572e+02 1.34769698e+02 1.29996223e+02\n",
      " 1.32428658e+02 4.27074090e+06 1.32428658e+02]\n"
     ]
    }
   ],
   "source": [
    "#calculates the mean\n",
    "mean_values = np.mean(data, axis=0)\n",
    "print(\"Mean values:\", mean_values)"
   ]
  },
  {
   "cell_type": "code",
   "execution_count": 16,
   "id": "4c58b239-e30f-49f6-a52d-6d6dd53c4174",
   "metadata": {},
   "outputs": [
    {
     "name": "stdout",
     "output_type": "stream",
     "text": [
      "Median values: [           nan 1.56334999e+02 1.62370002e+02 1.53150002e+02\n",
      " 1.58160004e+02 3.18070000e+06 1.58160004e+02]\n"
     ]
    }
   ],
   "source": [
    "#calculates the median \n",
    "median_values = np.median(data, axis=0)\n",
    "print(\"Median values:\", median_values)"
   ]
  },
  {
   "cell_type": "code",
   "execution_count": 17,
   "id": "d0d0d80d-fa8d-409a-a41c-443206b551a6",
   "metadata": {},
   "outputs": [
    {
     "name": "stdout",
     "output_type": "stream",
     "text": [
      "Standard Deviation values: [           nan 9.42820498e+01 9.56666315e+01 9.28277838e+01\n",
      " 9.42853123e+01 4.29470166e+06 9.42853123e+01]\n"
     ]
    }
   ],
   "source": [
    "#calculates the Standard Deviation\n",
    "std_dev = np.std(data, axis=0)\n",
    "print(\"Standard Deviation values:\", std_dev)"
   ]
  },
  {
   "cell_type": "code",
   "execution_count": 20,
   "id": "e274dd56-5c53-4114-95fa-cabe2083d540",
   "metadata": {},
   "outputs": [
    {
     "name": "stdout",
     "output_type": "stream",
     "text": [
      "Min values: [          nan 1.6139999e+01 1.6629999e+01 1.4980000e+01 1.5800000e+01\n",
      " 1.1850000e+05 1.5800000e+01]\n"
     ]
    }
   ],
   "source": [
    "#calculates the minimum values\n",
    "min_values = np.min(data, axis=0)\n",
    "print(\"Min values:\", min_values)"
   ]
  },
  {
   "cell_type": "code",
   "execution_count": 21,
   "id": "b4b25c9b-aed5-4419-a26a-f7471d1fe298",
   "metadata": {},
   "outputs": [
    {
     "name": "stdout",
     "output_type": "stream",
     "text": [
      "Max values: [           nan 2.87670013e+02 2.91420013e+02 2.80399994e+02\n",
      " 2.86040009e+02 3.71639000e+07 2.86040009e+02]\n"
     ]
    }
   ],
   "source": [
    "#calculates the maximum values\n",
    "min_values = np.max(data, axis=0)\n",
    "print(\"Max values:\", min_values)"
   ]
  },
  {
   "cell_type": "code",
   "execution_count": null,
   "id": "04e9531f-c385-4ba4-899e-7821b560ded0",
   "metadata": {},
   "outputs": [],
   "source": []
  }
 ],
 "metadata": {
  "kernelspec": {
   "display_name": "Python 3 (ipykernel)",
   "language": "python",
   "name": "python3"
  },
  "language_info": {
   "codemirror_mode": {
    "name": "ipython",
    "version": 3
   },
   "file_extension": ".py",
   "mimetype": "text/x-python",
   "name": "python",
   "nbconvert_exporter": "python",
   "pygments_lexer": "ipython3",
   "version": "3.12.4"
  }
 },
 "nbformat": 4,
 "nbformat_minor": 5
}
